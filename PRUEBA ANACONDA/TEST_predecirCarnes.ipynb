{
 "cells": [
  {
   "cell_type": "code",
   "execution_count": null,
   "id": "dabe523d",
   "metadata": {},
   "outputs": [],
   "source": [
    "import numpy as np\n",
    "from keras.preprocessing.image import load_img, img_to_array\n",
    "from keras.models import load_model\n",
    "\n",
    "longitud, altura = 150, 150\n",
    "modelo = './modelo/modelo.h5'\n",
    "pesos_modelo = './modelo/pesos.h5'\n",
    "cnn = load_model(modelo)\n",
    "cnn.load_weights(pesos_modelo)\n",
    "\n",
    "def predict(file):\n",
    "  x = load_img(file, target_size=(longitud, altura))\n",
    "  x = img_to_array(x)\n",
    "  x = np.expand_dims(x, axis=0)\n",
    "  array = cnn.predict(x)\n",
    "  result = array[0]\n",
    "  answer = np.argmax(result)\n",
    "if answer == 0:\n",
    "    print(\"pred: Tipo carne 1\")\n",
    "elif answer == 1:\n",
    "    print(\"pred: Tipo carne 2\")\n",
    "elif answer == 2:\n",
    "    print(\"pred: Tipo carne 3\")\n",
    "elif answer == 3:\n",
    "    print(\"pred: Tipo carne 4\")\n",
    "elif answer == 4:\n",
    "    print(\"pred: Tipo carne 5\")\n",
    "elif answer == 5:\n",
    "    print(\"pred: Tipo carne 6\")\n",
    "elif answer == 6:\n",
    "    print(\"pred: Tipo carne 7\")\n",
    "elif answer == 7:\n",
    "    print(\"pred: Tipo carne 8\")\n",
    "return answer\n",
    "\n",
    "predict('./data/validacion/CLASS_01/14-CAPTURE_20220523_141530_080.png')"
   ]
  },
  {
   "cell_type": "code",
   "execution_count": null,
   "id": "52b16093",
   "metadata": {},
   "outputs": [],
   "source": []
  }
 ],
 "metadata": {
  "kernelspec": {
   "display_name": "Python 3 (ipykernel)",
   "language": "python",
   "name": "python3"
  },
  "language_info": {
   "codemirror_mode": {
    "name": "ipython",
    "version": 3
   },
   "file_extension": ".py",
   "mimetype": "text/x-python",
   "name": "python",
   "nbconvert_exporter": "python",
   "pygments_lexer": "ipython3",
   "version": "3.11.4"
  }
 },
 "nbformat": 4,
 "nbformat_minor": 5
}
